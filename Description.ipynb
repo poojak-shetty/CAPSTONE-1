{
  "nbformat": 4,
  "nbformat_minor": 0,
  "metadata": {
    "colab": {
      "name": "Description.ipynb",
      "provenance": [],
      "collapsed_sections": [],
      "authorship_tag": "ABX9TyNCIxlJHIZetGBaVYYamzSS",
      "include_colab_link": true
    },
    "kernelspec": {
      "name": "python3",
      "display_name": "Python 3"
    }
  },
  "cells": [
    {
      "cell_type": "markdown",
      "metadata": {
        "id": "view-in-github",
        "colab_type": "text"
      },
      "source": [
        "<a href=\"https://colab.research.google.com/github/poojak-shetty/Capstone-1/blob/master/Description.ipynb\" target=\"_parent\"><img src=\"https://colab.research.google.com/assets/colab-badge.svg\" alt=\"Open In Colab\"/></a>"
      ]
    },
    {
      "cell_type": "markdown",
      "metadata": {
        "id": "4O7SdcTuHcBe",
        "colab_type": "text"
      },
      "source": [
        "## CAPSTONE-1 PROJECT"
      ]
    },
    {
      "cell_type": "markdown",
      "metadata": {
        "id": "LnqTute-Hq-_",
        "colab_type": "text"
      },
      "source": [
        "*For my capstone 1 project based on ML, I have chosen the LIFE EXPECTANCY DATASET from Kaggle.*"
      ]
    },
    {
      "cell_type": "markdown",
      "metadata": {
        "id": "eQs68KIfIjcO",
        "colab_type": "text"
      },
      "source": [
        "The link to my dataset -[Life expectancy dataset (WHO)](https://www.kaggle.com/kumarajarshi/life-expectancy-who)"
      ]
    },
    {
      "cell_type": "markdown",
      "metadata": {
        "id": "8WC5ctuaKS0d",
        "colab_type": "text"
      },
      "source": [
        "*Description*\n",
        "\n",
        "Life expectancy is a statistical measure of the average time an organism is expected to live, based on the year of its birth, its current age and other demographic factors including gender,BMI etc.Life expectancy is also one of the most important factor necessary when it comes to the topic of country's development."
      ]
    },
    {
      "cell_type": "markdown",
      "metadata": {
        "id": "tBj0r-7VLBn5",
        "colab_type": "text"
      },
      "source": [
        "# LIFE EXPECTANCY DATASET(WHO)"
      ]
    },
    {
      "cell_type": "markdown",
      "metadata": {
        "id": "JLRKuQD8LPtj",
        "colab_type": "text"
      },
      "source": [
        "Context\n",
        "\n",
        "Although there have been lot of studies undertaken in the past on factors affecting life expectancy considering demographic variables, income composition and mortality rates.Some of the past research was done considering multiple linear regression based on data set of one year for all the **countries**. Hence, this gives motivation to resolve both the factors stated previously by formulating a regression model based on mixed effects model and multiple linear regression while considering data from a period of 2000 to 2015 for all the countries. Important immunization like Hepatitis B, Polio and Diphtheria will also be considered. In a nutshell, this study will focus on immunization factors, mortality factors, economic factors, social factors and other health related factors as well. Since the observations this dataset are based on different countries, it will be easier for a country to determine the predicting factor which is contributing to lower value of life expectancy. This will help in suggesting a country which area should be given importance in order to efficiently improve the life expectancy of its population."
      ]
    },
    {
      "cell_type": "markdown",
      "metadata": {
        "id": "_hq_1nE61eVu",
        "colab_type": "text"
      },
      "source": [
        "Content\n",
        "\n",
        "The project relies on accuracy of data. The Global Health Observatory (GHO) data repository under World Health Organization (WHO) keeps track of the health status as well as many other related factors for all countries. The data-sets are made available to public for the purpose of health data analysis. The data-set related to life expectancy, health factors for 193 countries has been collected from the same WHO data repository website and its corresponding economic data was collected from United Nation website. Among all categories of health-related factors only those critical factors were chosen which are more representative. It has been observed that in the past 15 years , there has been a huge development in health sector resulting in improvement of human mortality rates especially in the developing nations in comparison to the past 30 years. Therefore, in this project we have considered data from year 2000-2015 for 193 countries for further analysis. The individual data files have been merged together into a single data-set.As the data-sets were from WHO, we found no evident errors.Finding all data for these countries was difficult and hence, it was decided that we exclude these countries from the final model data-set. The final merged file(final dataset) consists of 22 Columns and 2938 rows which meant 20 predicting variables. All predicting variables was then divided into several broad categories:​Immunization related factors, Mortality factors, Economical factors and Social factors.\n",
        "\n"
      ]
    },
    {
      "cell_type": "markdown",
      "metadata": {
        "id": "59-58fgp3A1Z",
        "colab_type": "text"
      },
      "source": [
        "Aim\n",
        "\n",
        "The data-set aims to answer the following key questions:\n",
        "\n",
        "1.Does various predicting factors which has been chosen initially really affect the Life expectancy? \n",
        "\n",
        "2.How does Infant and Adult mortality rates affect life expectancy?\n",
        "\n",
        "3.Does Life Expectancy has positive or negative correlation with eating habits, lifestyle, exercise, smoking, drinking alcohol etc.\n",
        "\n",
        "4.What is the impact of schooling on the lifespan of humans?\n",
        "\n",
        "5.Does Life Expectancy have positive or negative relationship with drinking alcohol?\n",
        "\n"
      ]
    }
  ]
}