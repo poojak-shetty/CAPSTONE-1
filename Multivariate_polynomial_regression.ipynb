{
  "nbformat": 4,
  "nbformat_minor": 0,
  "metadata": {
    "colab": {
      "name": "Multivariate polynomial regression.ipynb",
      "provenance": [],
      "collapsed_sections": [
        "7q-h6PvDBAic",
        "EZxE3GdQA0DL"
      ],
      "authorship_tag": "ABX9TyPJHFUdrut4GiTsVM0l2xhe",
      "include_colab_link": true
    },
    "kernelspec": {
      "name": "python3",
      "display_name": "Python 3"
    }
  },
  "cells": [
    {
      "cell_type": "markdown",
      "metadata": {
        "id": "view-in-github",
        "colab_type": "text"
      },
      "source": [
        "<a href=\"https://colab.research.google.com/github/poojak-shetty/Capstone-1/blob/master/Multivariate_polynomial_regression.ipynb\" target=\"_parent\"><img src=\"https://colab.research.google.com/assets/colab-badge.svg\" alt=\"Open In Colab\"/></a>"
      ]
    },
    {
      "cell_type": "markdown",
      "metadata": {
        "id": "MbVma0vK-Jp3",
        "colab_type": "text"
      },
      "source": [
        "Now let's use multivariate polynomial regression and find out the RMSE value."
      ]
    },
    {
      "cell_type": "markdown",
      "metadata": {
        "id": "7q-h6PvDBAic",
        "colab_type": "text"
      },
      "source": [
        "## IMPORTING AND LOADING DATA"
      ]
    },
    {
      "cell_type": "code",
      "metadata": {
        "id": "4zrj6Ub777e-",
        "colab_type": "code",
        "colab": {}
      },
      "source": [
        "import pandas as pd\n",
        "import numpy as np\n",
        "import matplotlib.pyplot as plt\n",
        "from sklearn.model_selection import train_test_split\n",
        "from sklearn.decomposition import PCA\n",
        "from sklearn.preprocessing import OneHotEncoder, MinMaxScaler\n",
        "import seaborn as sns"
      ],
      "execution_count": 0,
      "outputs": []
    },
    {
      "cell_type": "code",
      "metadata": {
        "id": "BZolRJmV-cxH",
        "colab_type": "code",
        "colab": {}
      },
      "source": [
        "df = pd.read_csv('Train set.csv')\n",
        "dff=pd.read_csv('Test set.csv')"
      ],
      "execution_count": 0,
      "outputs": []
    },
    {
      "cell_type": "code",
      "metadata": {
        "id": "TlvbOMf3-fsz",
        "colab_type": "code",
        "outputId": "b04e1a4d-04d2-495a-c5d8-3ba3a5733d60",
        "colab": {
          "base_uri": "https://localhost:8080/",
          "height": 266
        }
      },
      "source": [
        "df.head()"
      ],
      "execution_count": 0,
      "outputs": [
        {
          "output_type": "execute_result",
          "data": {
            "text/html": [
              "<div>\n",
              "<style scoped>\n",
              "    .dataframe tbody tr th:only-of-type {\n",
              "        vertical-align: middle;\n",
              "    }\n",
              "\n",
              "    .dataframe tbody tr th {\n",
              "        vertical-align: top;\n",
              "    }\n",
              "\n",
              "    .dataframe thead th {\n",
              "        text-align: right;\n",
              "    }\n",
              "</style>\n",
              "<table border=\"1\" class=\"dataframe\">\n",
              "  <thead>\n",
              "    <tr style=\"text-align: right;\">\n",
              "      <th></th>\n",
              "      <th>Unnamed: 0</th>\n",
              "      <th>Year</th>\n",
              "      <th>Developing</th>\n",
              "      <th>Life expectancy</th>\n",
              "      <th>Adult Mortality</th>\n",
              "      <th>infant deaths</th>\n",
              "      <th>Alcohol</th>\n",
              "      <th>percentage expenditure</th>\n",
              "      <th>Hepatitis B</th>\n",
              "      <th>Measles</th>\n",
              "      <th>BMI</th>\n",
              "      <th>under-five deaths</th>\n",
              "      <th>Polio</th>\n",
              "      <th>Total expenditure</th>\n",
              "      <th>Diphtheria</th>\n",
              "      <th>HIV/AIDS</th>\n",
              "      <th>GDP</th>\n",
              "      <th>Population</th>\n",
              "      <th>thinness  1-19 years</th>\n",
              "      <th>thinness 5-9 years</th>\n",
              "      <th>Income composition of resources</th>\n",
              "      <th>Schooling</th>\n",
              "    </tr>\n",
              "  </thead>\n",
              "  <tbody>\n",
              "    <tr>\n",
              "      <th>0</th>\n",
              "      <td>0</td>\n",
              "      <td>2015</td>\n",
              "      <td>1</td>\n",
              "      <td>65.0</td>\n",
              "      <td>263.0</td>\n",
              "      <td>62</td>\n",
              "      <td>0.01</td>\n",
              "      <td>71.279624</td>\n",
              "      <td>65.0</td>\n",
              "      <td>1154</td>\n",
              "      <td>19.1</td>\n",
              "      <td>83</td>\n",
              "      <td>6.0</td>\n",
              "      <td>8.16</td>\n",
              "      <td>65.0</td>\n",
              "      <td>0.1</td>\n",
              "      <td>584.259210</td>\n",
              "      <td>33736494.0</td>\n",
              "      <td>17.2</td>\n",
              "      <td>17.3</td>\n",
              "      <td>0.479</td>\n",
              "      <td>10.1</td>\n",
              "    </tr>\n",
              "    <tr>\n",
              "      <th>1</th>\n",
              "      <td>1</td>\n",
              "      <td>2014</td>\n",
              "      <td>1</td>\n",
              "      <td>59.9</td>\n",
              "      <td>271.0</td>\n",
              "      <td>64</td>\n",
              "      <td>0.01</td>\n",
              "      <td>73.523582</td>\n",
              "      <td>62.0</td>\n",
              "      <td>492</td>\n",
              "      <td>18.6</td>\n",
              "      <td>86</td>\n",
              "      <td>58.0</td>\n",
              "      <td>8.18</td>\n",
              "      <td>62.0</td>\n",
              "      <td>0.1</td>\n",
              "      <td>612.696514</td>\n",
              "      <td>327582.0</td>\n",
              "      <td>17.5</td>\n",
              "      <td>17.5</td>\n",
              "      <td>0.476</td>\n",
              "      <td>10.0</td>\n",
              "    </tr>\n",
              "    <tr>\n",
              "      <th>2</th>\n",
              "      <td>2</td>\n",
              "      <td>2013</td>\n",
              "      <td>1</td>\n",
              "      <td>59.9</td>\n",
              "      <td>268.0</td>\n",
              "      <td>66</td>\n",
              "      <td>0.01</td>\n",
              "      <td>73.219243</td>\n",
              "      <td>64.0</td>\n",
              "      <td>430</td>\n",
              "      <td>18.1</td>\n",
              "      <td>89</td>\n",
              "      <td>62.0</td>\n",
              "      <td>8.13</td>\n",
              "      <td>64.0</td>\n",
              "      <td>0.1</td>\n",
              "      <td>631.744976</td>\n",
              "      <td>31731688.0</td>\n",
              "      <td>17.7</td>\n",
              "      <td>17.7</td>\n",
              "      <td>0.470</td>\n",
              "      <td>9.9</td>\n",
              "    </tr>\n",
              "    <tr>\n",
              "      <th>3</th>\n",
              "      <td>3</td>\n",
              "      <td>2012</td>\n",
              "      <td>1</td>\n",
              "      <td>59.5</td>\n",
              "      <td>272.0</td>\n",
              "      <td>69</td>\n",
              "      <td>0.01</td>\n",
              "      <td>78.184215</td>\n",
              "      <td>67.0</td>\n",
              "      <td>2787</td>\n",
              "      <td>17.6</td>\n",
              "      <td>93</td>\n",
              "      <td>67.0</td>\n",
              "      <td>8.52</td>\n",
              "      <td>67.0</td>\n",
              "      <td>0.1</td>\n",
              "      <td>669.959000</td>\n",
              "      <td>3696958.0</td>\n",
              "      <td>17.9</td>\n",
              "      <td>18.0</td>\n",
              "      <td>0.463</td>\n",
              "      <td>9.8</td>\n",
              "    </tr>\n",
              "    <tr>\n",
              "      <th>4</th>\n",
              "      <td>4</td>\n",
              "      <td>2011</td>\n",
              "      <td>1</td>\n",
              "      <td>59.2</td>\n",
              "      <td>275.0</td>\n",
              "      <td>71</td>\n",
              "      <td>0.01</td>\n",
              "      <td>7.097109</td>\n",
              "      <td>68.0</td>\n",
              "      <td>3013</td>\n",
              "      <td>17.2</td>\n",
              "      <td>97</td>\n",
              "      <td>68.0</td>\n",
              "      <td>7.87</td>\n",
              "      <td>68.0</td>\n",
              "      <td>0.1</td>\n",
              "      <td>63.537231</td>\n",
              "      <td>2978599.0</td>\n",
              "      <td>18.2</td>\n",
              "      <td>18.2</td>\n",
              "      <td>0.454</td>\n",
              "      <td>9.5</td>\n",
              "    </tr>\n",
              "  </tbody>\n",
              "</table>\n",
              "</div>"
            ],
            "text/plain": [
              "   Unnamed: 0  Year  ...  Income composition of resources  Schooling\n",
              "0           0  2015  ...                            0.479       10.1\n",
              "1           1  2014  ...                            0.476       10.0\n",
              "2           2  2013  ...                            0.470        9.9\n",
              "3           3  2012  ...                            0.463        9.8\n",
              "4           4  2011  ...                            0.454        9.5\n",
              "\n",
              "[5 rows x 22 columns]"
            ]
          },
          "metadata": {
            "tags": []
          },
          "execution_count": 28
        }
      ]
    },
    {
      "cell_type": "code",
      "metadata": {
        "id": "rNsO0Jki-kN6",
        "colab_type": "code",
        "colab": {}
      },
      "source": [
        "df=df.loc[:, ~df.columns.str.match('Unnamed')]\n",
        "dff=dff.loc[:, ~dff.columns.str.match('Unnamed')]"
      ],
      "execution_count": 0,
      "outputs": []
    },
    {
      "cell_type": "code",
      "metadata": {
        "id": "4vjatVfx-lJF",
        "colab_type": "code",
        "outputId": "62ff5201-508a-4dde-ceae-73b5e00ee601",
        "colab": {
          "base_uri": "https://localhost:8080/",
          "height": 266
        }
      },
      "source": [
        "df.head()"
      ],
      "execution_count": 0,
      "outputs": [
        {
          "output_type": "execute_result",
          "data": {
            "text/html": [
              "<div>\n",
              "<style scoped>\n",
              "    .dataframe tbody tr th:only-of-type {\n",
              "        vertical-align: middle;\n",
              "    }\n",
              "\n",
              "    .dataframe tbody tr th {\n",
              "        vertical-align: top;\n",
              "    }\n",
              "\n",
              "    .dataframe thead th {\n",
              "        text-align: right;\n",
              "    }\n",
              "</style>\n",
              "<table border=\"1\" class=\"dataframe\">\n",
              "  <thead>\n",
              "    <tr style=\"text-align: right;\">\n",
              "      <th></th>\n",
              "      <th>Year</th>\n",
              "      <th>Developing</th>\n",
              "      <th>Life expectancy</th>\n",
              "      <th>Adult Mortality</th>\n",
              "      <th>infant deaths</th>\n",
              "      <th>Alcohol</th>\n",
              "      <th>percentage expenditure</th>\n",
              "      <th>Hepatitis B</th>\n",
              "      <th>Measles</th>\n",
              "      <th>BMI</th>\n",
              "      <th>under-five deaths</th>\n",
              "      <th>Polio</th>\n",
              "      <th>Total expenditure</th>\n",
              "      <th>Diphtheria</th>\n",
              "      <th>HIV/AIDS</th>\n",
              "      <th>GDP</th>\n",
              "      <th>Population</th>\n",
              "      <th>thinness  1-19 years</th>\n",
              "      <th>thinness 5-9 years</th>\n",
              "      <th>Income composition of resources</th>\n",
              "      <th>Schooling</th>\n",
              "    </tr>\n",
              "  </thead>\n",
              "  <tbody>\n",
              "    <tr>\n",
              "      <th>0</th>\n",
              "      <td>2015</td>\n",
              "      <td>1</td>\n",
              "      <td>65.0</td>\n",
              "      <td>263.0</td>\n",
              "      <td>62</td>\n",
              "      <td>0.01</td>\n",
              "      <td>71.279624</td>\n",
              "      <td>65.0</td>\n",
              "      <td>1154</td>\n",
              "      <td>19.1</td>\n",
              "      <td>83</td>\n",
              "      <td>6.0</td>\n",
              "      <td>8.16</td>\n",
              "      <td>65.0</td>\n",
              "      <td>0.1</td>\n",
              "      <td>584.259210</td>\n",
              "      <td>33736494.0</td>\n",
              "      <td>17.2</td>\n",
              "      <td>17.3</td>\n",
              "      <td>0.479</td>\n",
              "      <td>10.1</td>\n",
              "    </tr>\n",
              "    <tr>\n",
              "      <th>1</th>\n",
              "      <td>2014</td>\n",
              "      <td>1</td>\n",
              "      <td>59.9</td>\n",
              "      <td>271.0</td>\n",
              "      <td>64</td>\n",
              "      <td>0.01</td>\n",
              "      <td>73.523582</td>\n",
              "      <td>62.0</td>\n",
              "      <td>492</td>\n",
              "      <td>18.6</td>\n",
              "      <td>86</td>\n",
              "      <td>58.0</td>\n",
              "      <td>8.18</td>\n",
              "      <td>62.0</td>\n",
              "      <td>0.1</td>\n",
              "      <td>612.696514</td>\n",
              "      <td>327582.0</td>\n",
              "      <td>17.5</td>\n",
              "      <td>17.5</td>\n",
              "      <td>0.476</td>\n",
              "      <td>10.0</td>\n",
              "    </tr>\n",
              "    <tr>\n",
              "      <th>2</th>\n",
              "      <td>2013</td>\n",
              "      <td>1</td>\n",
              "      <td>59.9</td>\n",
              "      <td>268.0</td>\n",
              "      <td>66</td>\n",
              "      <td>0.01</td>\n",
              "      <td>73.219243</td>\n",
              "      <td>64.0</td>\n",
              "      <td>430</td>\n",
              "      <td>18.1</td>\n",
              "      <td>89</td>\n",
              "      <td>62.0</td>\n",
              "      <td>8.13</td>\n",
              "      <td>64.0</td>\n",
              "      <td>0.1</td>\n",
              "      <td>631.744976</td>\n",
              "      <td>31731688.0</td>\n",
              "      <td>17.7</td>\n",
              "      <td>17.7</td>\n",
              "      <td>0.470</td>\n",
              "      <td>9.9</td>\n",
              "    </tr>\n",
              "    <tr>\n",
              "      <th>3</th>\n",
              "      <td>2012</td>\n",
              "      <td>1</td>\n",
              "      <td>59.5</td>\n",
              "      <td>272.0</td>\n",
              "      <td>69</td>\n",
              "      <td>0.01</td>\n",
              "      <td>78.184215</td>\n",
              "      <td>67.0</td>\n",
              "      <td>2787</td>\n",
              "      <td>17.6</td>\n",
              "      <td>93</td>\n",
              "      <td>67.0</td>\n",
              "      <td>8.52</td>\n",
              "      <td>67.0</td>\n",
              "      <td>0.1</td>\n",
              "      <td>669.959000</td>\n",
              "      <td>3696958.0</td>\n",
              "      <td>17.9</td>\n",
              "      <td>18.0</td>\n",
              "      <td>0.463</td>\n",
              "      <td>9.8</td>\n",
              "    </tr>\n",
              "    <tr>\n",
              "      <th>4</th>\n",
              "      <td>2011</td>\n",
              "      <td>1</td>\n",
              "      <td>59.2</td>\n",
              "      <td>275.0</td>\n",
              "      <td>71</td>\n",
              "      <td>0.01</td>\n",
              "      <td>7.097109</td>\n",
              "      <td>68.0</td>\n",
              "      <td>3013</td>\n",
              "      <td>17.2</td>\n",
              "      <td>97</td>\n",
              "      <td>68.0</td>\n",
              "      <td>7.87</td>\n",
              "      <td>68.0</td>\n",
              "      <td>0.1</td>\n",
              "      <td>63.537231</td>\n",
              "      <td>2978599.0</td>\n",
              "      <td>18.2</td>\n",
              "      <td>18.2</td>\n",
              "      <td>0.454</td>\n",
              "      <td>9.5</td>\n",
              "    </tr>\n",
              "  </tbody>\n",
              "</table>\n",
              "</div>"
            ],
            "text/plain": [
              "   Year  Developing  ...  Income composition of resources  Schooling\n",
              "0  2015           1  ...                            0.479       10.1\n",
              "1  2014           1  ...                            0.476       10.0\n",
              "2  2013           1  ...                            0.470        9.9\n",
              "3  2012           1  ...                            0.463        9.8\n",
              "4  2011           1  ...                            0.454        9.5\n",
              "\n",
              "[5 rows x 21 columns]"
            ]
          },
          "metadata": {
            "tags": []
          },
          "execution_count": 30
        }
      ]
    },
    {
      "cell_type": "code",
      "metadata": {
        "id": "OaME0yri-m0j",
        "colab_type": "code",
        "outputId": "1d66d3f8-a561-42ee-83fe-ef7e90868f4f",
        "colab": {
          "base_uri": "https://localhost:8080/",
          "height": 386
        }
      },
      "source": [
        "df.corr('pearson')['Life expectancy '].sort_values()"
      ],
      "execution_count": 0,
      "outputs": [
        {
          "output_type": "execute_result",
          "data": {
            "text/plain": [
              "Adult Mortality                   -0.696359\n",
              " HIV/AIDS                         -0.556457\n",
              "Developing                        -0.481962\n",
              " thinness  1-19 years             -0.472162\n",
              " thinness 5-9 years               -0.466629\n",
              "under-five deaths                 -0.222503\n",
              "infant deaths                     -0.196535\n",
              "Measles                           -0.157574\n",
              "Population                        -0.019638\n",
              "Year                               0.169623\n",
              "Hepatitis B                        0.203771\n",
              "Total expenditure                  0.207981\n",
              "percentage expenditure             0.381791\n",
              "Alcohol                            0.391598\n",
              "GDP                                0.430493\n",
              "Polio                              0.461574\n",
              "Diphtheria                         0.475418\n",
              " BMI                               0.559255\n",
              "Income composition of resources    0.692483\n",
              "Schooling                          0.715066\n",
              "Life expectancy                    1.000000\n",
              "Name: Life expectancy , dtype: float64"
            ]
          },
          "metadata": {
            "tags": []
          },
          "execution_count": 31
        }
      ]
    },
    {
      "cell_type": "code",
      "metadata": {
        "id": "V3cFAV_d-sl6",
        "colab_type": "code",
        "colab": {}
      },
      "source": [
        "scaler = MinMaxScaler()\n",
        "df1 = pd.DataFrame(scaler.fit_transform(df), columns = df.columns)"
      ],
      "execution_count": 0,
      "outputs": []
    },
    {
      "cell_type": "code",
      "metadata": {
        "id": "07i42jbo-xvc",
        "colab_type": "code",
        "colab": {}
      },
      "source": [
        "df1=(df-df.min()) /(df.max()-df.min())"
      ],
      "execution_count": 0,
      "outputs": []
    },
    {
      "cell_type": "code",
      "metadata": {
        "id": "dJtBmOg6-0kU",
        "colab_type": "code",
        "outputId": "940e4959-9f31-4572-d75c-a0c303beecd3",
        "colab": {
          "base_uri": "https://localhost:8080/",
          "height": 266
        }
      },
      "source": [
        "df1.head()"
      ],
      "execution_count": 0,
      "outputs": [
        {
          "output_type": "execute_result",
          "data": {
            "text/html": [
              "<div>\n",
              "<style scoped>\n",
              "    .dataframe tbody tr th:only-of-type {\n",
              "        vertical-align: middle;\n",
              "    }\n",
              "\n",
              "    .dataframe tbody tr th {\n",
              "        vertical-align: top;\n",
              "    }\n",
              "\n",
              "    .dataframe thead th {\n",
              "        text-align: right;\n",
              "    }\n",
              "</style>\n",
              "<table border=\"1\" class=\"dataframe\">\n",
              "  <thead>\n",
              "    <tr style=\"text-align: right;\">\n",
              "      <th></th>\n",
              "      <th>Year</th>\n",
              "      <th>Developing</th>\n",
              "      <th>Life expectancy</th>\n",
              "      <th>Adult Mortality</th>\n",
              "      <th>infant deaths</th>\n",
              "      <th>Alcohol</th>\n",
              "      <th>percentage expenditure</th>\n",
              "      <th>Hepatitis B</th>\n",
              "      <th>Measles</th>\n",
              "      <th>BMI</th>\n",
              "      <th>under-five deaths</th>\n",
              "      <th>Polio</th>\n",
              "      <th>Total expenditure</th>\n",
              "      <th>Diphtheria</th>\n",
              "      <th>HIV/AIDS</th>\n",
              "      <th>GDP</th>\n",
              "      <th>Population</th>\n",
              "      <th>thinness  1-19 years</th>\n",
              "      <th>thinness 5-9 years</th>\n",
              "      <th>Income composition of resources</th>\n",
              "      <th>Schooling</th>\n",
              "    </tr>\n",
              "  </thead>\n",
              "  <tbody>\n",
              "    <tr>\n",
              "      <th>0</th>\n",
              "      <td>1.000000</td>\n",
              "      <td>1.0</td>\n",
              "      <td>0.544592</td>\n",
              "      <td>0.362881</td>\n",
              "      <td>0.034444</td>\n",
              "      <td>0.0</td>\n",
              "      <td>0.003659</td>\n",
              "      <td>0.653061</td>\n",
              "      <td>0.005439</td>\n",
              "      <td>0.209733</td>\n",
              "      <td>0.0332</td>\n",
              "      <td>0.031250</td>\n",
              "      <td>0.452118</td>\n",
              "      <td>0.649485</td>\n",
              "      <td>0.0</td>\n",
              "      <td>0.004889</td>\n",
              "      <td>0.026074</td>\n",
              "      <td>0.619565</td>\n",
              "      <td>0.603509</td>\n",
              "      <td>0.505274</td>\n",
              "      <td>0.487923</td>\n",
              "    </tr>\n",
              "    <tr>\n",
              "      <th>1</th>\n",
              "      <td>0.933333</td>\n",
              "      <td>1.0</td>\n",
              "      <td>0.447818</td>\n",
              "      <td>0.373961</td>\n",
              "      <td>0.035556</td>\n",
              "      <td>0.0</td>\n",
              "      <td>0.003774</td>\n",
              "      <td>0.622449</td>\n",
              "      <td>0.002319</td>\n",
              "      <td>0.203940</td>\n",
              "      <td>0.0344</td>\n",
              "      <td>0.572917</td>\n",
              "      <td>0.453279</td>\n",
              "      <td>0.618557</td>\n",
              "      <td>0.0</td>\n",
              "      <td>0.005127</td>\n",
              "      <td>0.000253</td>\n",
              "      <td>0.630435</td>\n",
              "      <td>0.610526</td>\n",
              "      <td>0.502110</td>\n",
              "      <td>0.483092</td>\n",
              "    </tr>\n",
              "    <tr>\n",
              "      <th>2</th>\n",
              "      <td>0.866667</td>\n",
              "      <td>1.0</td>\n",
              "      <td>0.447818</td>\n",
              "      <td>0.369806</td>\n",
              "      <td>0.036667</td>\n",
              "      <td>0.0</td>\n",
              "      <td>0.003759</td>\n",
              "      <td>0.642857</td>\n",
              "      <td>0.002027</td>\n",
              "      <td>0.198146</td>\n",
              "      <td>0.0356</td>\n",
              "      <td>0.614583</td>\n",
              "      <td>0.450377</td>\n",
              "      <td>0.639175</td>\n",
              "      <td>0.0</td>\n",
              "      <td>0.005287</td>\n",
              "      <td>0.024525</td>\n",
              "      <td>0.637681</td>\n",
              "      <td>0.617544</td>\n",
              "      <td>0.495781</td>\n",
              "      <td>0.478261</td>\n",
              "    </tr>\n",
              "    <tr>\n",
              "      <th>3</th>\n",
              "      <td>0.800000</td>\n",
              "      <td>1.0</td>\n",
              "      <td>0.440228</td>\n",
              "      <td>0.375346</td>\n",
              "      <td>0.038333</td>\n",
              "      <td>0.0</td>\n",
              "      <td>0.004014</td>\n",
              "      <td>0.673469</td>\n",
              "      <td>0.013135</td>\n",
              "      <td>0.192352</td>\n",
              "      <td>0.0372</td>\n",
              "      <td>0.666667</td>\n",
              "      <td>0.473012</td>\n",
              "      <td>0.670103</td>\n",
              "      <td>0.0</td>\n",
              "      <td>0.005608</td>\n",
              "      <td>0.002857</td>\n",
              "      <td>0.644928</td>\n",
              "      <td>0.628070</td>\n",
              "      <td>0.488397</td>\n",
              "      <td>0.473430</td>\n",
              "    </tr>\n",
              "    <tr>\n",
              "      <th>4</th>\n",
              "      <td>0.733333</td>\n",
              "      <td>1.0</td>\n",
              "      <td>0.434535</td>\n",
              "      <td>0.379501</td>\n",
              "      <td>0.039444</td>\n",
              "      <td>0.0</td>\n",
              "      <td>0.000364</td>\n",
              "      <td>0.683673</td>\n",
              "      <td>0.014200</td>\n",
              "      <td>0.187717</td>\n",
              "      <td>0.0388</td>\n",
              "      <td>0.677083</td>\n",
              "      <td>0.435287</td>\n",
              "      <td>0.680412</td>\n",
              "      <td>0.0</td>\n",
              "      <td>0.000519</td>\n",
              "      <td>0.002302</td>\n",
              "      <td>0.655797</td>\n",
              "      <td>0.635088</td>\n",
              "      <td>0.478903</td>\n",
              "      <td>0.458937</td>\n",
              "    </tr>\n",
              "  </tbody>\n",
              "</table>\n",
              "</div>"
            ],
            "text/plain": [
              "       Year  Developing  ...  Income composition of resources  Schooling\n",
              "0  1.000000         1.0  ...                         0.505274   0.487923\n",
              "1  0.933333         1.0  ...                         0.502110   0.483092\n",
              "2  0.866667         1.0  ...                         0.495781   0.478261\n",
              "3  0.800000         1.0  ...                         0.488397   0.473430\n",
              "4  0.733333         1.0  ...                         0.478903   0.458937\n",
              "\n",
              "[5 rows x 21 columns]"
            ]
          },
          "metadata": {
            "tags": []
          },
          "execution_count": 34
        }
      ]
    },
    {
      "cell_type": "markdown",
      "metadata": {
        "id": "3ZuhBeQH-61K",
        "colab_type": "text"
      },
      "source": [
        "Till here all the steps are the same as in linear regression model"
      ]
    },
    {
      "cell_type": "markdown",
      "metadata": {
        "id": "EZxE3GdQA0DL",
        "colab_type": "text"
      },
      "source": [
        "## MULTIVARIATE POLYNOMIAL REGRESSION (2 FEATURES)"
      ]
    },
    {
      "cell_type": "markdown",
      "metadata": {
        "id": "PernuEhFEHnt",
        "colab_type": "text"
      },
      "source": [
        "HYPOTHESIS **FUNCTION**"
      ]
    },
    {
      "cell_type": "code",
      "metadata": {
        "id": "LB4SH8s_-32S",
        "colab_type": "code",
        "colab": {}
      },
      "source": [
        "def hypothesis(a,b,c,x1,x2):\n",
        "    return (a * x1) + (b * np.power(x2, 2)) + c "
      ],
      "execution_count": 0,
      "outputs": []
    },
    {
      "cell_type": "markdown",
      "metadata": {
        "id": "U5pBIFevENJJ",
        "colab_type": "text"
      },
      "source": [
        "ERROR **FUNCTION**"
      ]
    },
    {
      "cell_type": "code",
      "metadata": {
        "id": "RIkJB3CuC0q8",
        "colab_type": "code",
        "colab": {}
      },
      "source": [
        "def error1(a,b,c,x1,x2,y):\n",
        "  m = len(y)\n",
        "  e = 0\n",
        "  for i in range(m):\n",
        "    e += np.power(hypothesis(a,b,c,x1[i], x2[i])-y[i], 2)\n",
        "  \n",
        "  return e/(2*m)    "
      ],
      "execution_count": 0,
      "outputs": []
    },
    {
      "cell_type": "markdown",
      "metadata": {
        "id": "Ou-6SXUVEUla",
        "colab_type": "text"
      },
      "source": [
        "**STEP GRADIENT FUNCTION**"
      ]
    },
    {
      "cell_type": "code",
      "metadata": {
        "id": "A9FrwJ9XC9BC",
        "colab_type": "code",
        "colab": {}
      },
      "source": [
        "def step_gradient1(a,b,c,x1,x2,y,learning_rate):\n",
        "  grad_a = 0\n",
        "  grad_b = 0\n",
        "  grad_c = 0\n",
        "  m = len(y)\n",
        "  for i in range(m):\n",
        "    grad_a += (1/m) * (hypothesis(a,b,c,x1[i], x2[i]) - y[i]) * x1[i]\n",
        "    grad_b += (1/m) * (hypothesis(a,b,c,x1[i], x2[i]) - y[i]) * x2[i]\n",
        "    grad_c += (1/m) * (hypothesis(a,b,c,x1[i], x2[i]) - y[i])\n",
        "\n",
        "  a = a - (grad_a * learning_rate)\n",
        "  b = b - (grad_b * learning_rate)\n",
        "  c = c - (grad_c * learning_rate)\n",
        "  return a,b,c"
      ],
      "execution_count": 0,
      "outputs": []
    },
    {
      "cell_type": "code",
      "metadata": {
        "id": "_bVAE6xgDSe9",
        "colab_type": "code",
        "colab": {}
      },
      "source": [
        "def descend1(init_a,init_b,init_c,x1,x2,y,learning_rate,iters):\n",
        "  a = init_a\n",
        "  b = init_b\n",
        "  c = init_c\n",
        "\n",
        "  for i in range(iterations):\n",
        "    if i%100==0:\n",
        "      print(\"Error: %.5f | a: %.5f | b: %.5f | c: %.5f\" %(error1(a,b,c,x1,x2,y),a,b,c))\n",
        "    a,b,c = step_gradient1(a,b,c,x1,x2,y,learning_rate)\n",
        "\n",
        "  return a,b,c"
      ],
      "execution_count": 0,
      "outputs": []
    },
    {
      "cell_type": "code",
      "metadata": {
        "id": "qdCrSmgvDkCd",
        "colab_type": "code",
        "colab": {}
      },
      "source": [
        "from mpl_toolkits.mplot3d import Axes3D"
      ],
      "execution_count": 0,
      "outputs": []
    },
    {
      "cell_type": "code",
      "metadata": {
        "id": "wD8WAG5-DpiD",
        "colab_type": "code",
        "outputId": "3b964b6d-af47-4b35-9a6f-e0ddff19e836",
        "colab": {
          "base_uri": "https://localhost:8080/",
          "height": 185
        }
      },
      "source": [
        "#a,b,c = 0,0,0\n",
        "learning_rate = 0.05\n",
        "iterations = 1000\n",
        "\n",
        "a, b, c = descend1(a, b, c,df1[' HIV/AIDS'].values,df1['Alcohol'].values, df1['Life expectancy '].values, learning_rate, iterations)"
      ],
      "execution_count": 0,
      "outputs": [
        {
          "output_type": "stream",
          "text": [
            "Error: 0.00997 | a: -0.62956 | b: 0.46971 | c: 0.59152\n",
            "Error: 0.00993 | a: -0.64463 | b: 0.47060 | c: 0.59190\n",
            "Error: 0.00989 | a: -0.65896 | b: 0.47130 | c: 0.59229\n",
            "Error: 0.00985 | a: -0.67257 | b: 0.47182 | c: 0.59267\n",
            "Error: 0.00982 | a: -0.68551 | b: 0.47220 | c: 0.59305\n",
            "Error: 0.00979 | a: -0.69781 | b: 0.47246 | c: 0.59343\n",
            "Error: 0.00976 | a: -0.70950 | b: 0.47262 | c: 0.59379\n",
            "Error: 0.00974 | a: -0.72062 | b: 0.47270 | c: 0.59414\n",
            "Error: 0.00972 | a: -0.73119 | b: 0.47271 | c: 0.59449\n",
            "Error: 0.00969 | a: -0.74124 | b: 0.47267 | c: 0.59482\n"
          ],
          "name": "stdout"
        }
      ]
    },
    {
      "cell_type": "code",
      "metadata": {
        "id": "BalfbYHlGSp2",
        "colab_type": "code",
        "outputId": "eb884a45-d5bd-4443-bb80-ebcdee13e0c4",
        "colab": {
          "base_uri": "https://localhost:8080/",
          "height": 34
        }
      },
      "source": [
        "print(\"{0:.2f}%\".format(np.sqrt(error1(a,b,c, df1[\" HIV/AIDS\"], df1['Alcohol'], df1[\"Life expectancy \"]))*100))\n",
        "#WITH FEATURES HIV/AIDS AND ALCOHOL"
      ],
      "execution_count": 0,
      "outputs": [
        {
          "output_type": "stream",
          "text": [
            "9.84%\n"
          ],
          "name": "stdout"
        }
      ]
    },
    {
      "cell_type": "code",
      "metadata": {
        "id": "uxc-yCX1EEuV",
        "colab_type": "code",
        "outputId": "567bf131-bb1e-4647-f054-0cce593309e8",
        "colab": {
          "base_uri": "https://localhost:8080/",
          "height": 34
        }
      },
      "source": [
        "print(\"{0:.2f}%\".format(np.sqrt(error1(a,b,c, df1[\"Adult Mortality\"], df1[' thinness  1-19 years'], df1[\"Life expectancy \"]))*100))\n",
        "#WITH FEATURES ADULT MORTALITY AND THINNESS 1-19 YEARS"
      ],
      "execution_count": 0,
      "outputs": [
        {
          "output_type": "stream",
          "text": [
            "8.95%\n"
          ],
          "name": "stdout"
        }
      ]
    },
    {
      "cell_type": "code",
      "metadata": {
        "id": "zqpM3IHtEhUq",
        "colab_type": "code",
        "outputId": "aeed82eb-7c54-4f88-d886-7d211a4b3c77",
        "colab": {
          "base_uri": "https://localhost:8080/",
          "height": 265
        }
      },
      "source": [
        "fig = plt.figure()\n",
        "ax = fig.add_subplot(111, projection='3d')\n",
        "ax.view_init(0,180)\n",
        "\n",
        "ax.scatter(df1[\" HIV/AIDS\"], df1[\"Alcohol\"], df1[\"Life expectancy \"], c='y', marker='.')\n",
        "ax.scatter(df1[\" HIV/AIDS\"], df1[\"Alcohol\"], hypothesis(a,b,c,df1[\" HIV/AIDS\"], df1[\"Alcohol\"]), c='r', marker='.')"
      ],
      "execution_count": 0,
      "outputs": [
        {
          "output_type": "execute_result",
          "data": {
            "text/plain": [
              "<mpl_toolkits.mplot3d.art3d.Path3DCollection at 0x7f03a4d25160>"
            ]
          },
          "metadata": {
            "tags": []
          },
          "execution_count": 47
        },
        {
          "output_type": "display_data",
          "data": {
            "image/png": "[encoded data removed]",
            "text/plain": [
              "<Figure size 432x288 with 1 Axes>"
            ]
          },
          "metadata": {
            "tags": []
          }
        }
      ]
    },
    {
      "cell_type": "code",
      "metadata": {
        "id": "x5ezSAj3H6to",
        "colab_type": "code",
        "outputId": "025bce7e-e3a2-43d7-aeeb-c0705529a7d9",
        "colab": {
          "base_uri": "https://localhost:8080/",
          "height": 265
        }
      },
      "source": [
        "fig = plt.figure()\n",
        "ax = fig.add_subplot(111, projection='3d')\n",
        "ax.view_init(0,180)\n",
        "\n",
        "ax.scatter(df1[\"Adult Mortality\"], df1[' thinness  1-19 years'], df1[\"Life expectancy \"], c='y', marker='.')\n",
        "ax.scatter(df1[\"Adult Mortality\"], df1[' thinness  1-19 years'], hypothesis(a,b,c,df1[\"Adult Mortality\"], df1[' thinness  1-19 years']), c='r', marker='.')"
      ],
      "execution_count": 0,
      "outputs": [
        {
          "output_type": "execute_result",
          "data": {
            "text/plain": [
              "<mpl_toolkits.mplot3d.art3d.Path3DCollection at 0x7f03a2005c50>"
            ]
          },
          "metadata": {
            "tags": []
          },
          "execution_count": 48
        },
        {
          "output_type": "display_data",
          "data": {
            "image/png": "[encoded data removed]",
            "text/plain": [
              "<Figure size 432x288 with 1 Axes>"
            ]
          },
          "metadata": {
            "tags": []
          }
        }
      ]
    },
    {
      "cell_type": "markdown",
      "metadata": {
        "id": "wCr5FV30IiIt",
        "colab_type": "text"
      },
      "source": [
        "With 2 features we could only hit maximum 8.95% error.So,lets try with multivariate polynomial regression wrt 3 features"
      ]
    },
    {
      "cell_type": "markdown",
      "metadata": {
        "id": "g5eqbT9NI4T6",
        "colab_type": "text"
      },
      "source": [
        "# MULTIVARIATE POLYNOMIAL REGRESSION(3 FEATURES)"
      ]
    },
    {
      "cell_type": "markdown",
      "metadata": {
        "id": "ORSNM2MCKYbf",
        "colab_type": "text"
      },
      "source": [
        "HYPOTHESIS FUNCTION"
      ]
    },
    {
      "cell_type": "code",
      "metadata": {
        "id": "jCPCAXH9J3jx",
        "colab_type": "code",
        "colab": {}
      },
      "source": [
        "def hypothesis(a,b,c,d,x1,x2,x3):\n",
        "    return (a * x1) + (b * np.power(x2, 2)) + (c * np.power(x3,3)) + d "
      ],
      "execution_count": 0,
      "outputs": []
    },
    {
      "cell_type": "markdown",
      "metadata": {
        "id": "6jpmkajHKcTc",
        "colab_type": "text"
      },
      "source": [
        "ERROR FUNCTION"
      ]
    },
    {
      "cell_type": "code",
      "metadata": {
        "id": "basimjs-KCUP",
        "colab_type": "code",
        "colab": {}
      },
      "source": [
        "def error1(a,b,c,d,x1,x2,x3,y):\n",
        "  m = len(y)\n",
        "  e = 0\n",
        "  for i in range(m):\n",
        "    e += np.power(hypothesis(a,b,c,d,x1[i], x2[i],x3[i])-y[i], 2)\n",
        "  \n",
        "  return e/(2*m)    "
      ],
      "execution_count": 0,
      "outputs": []
    },
    {
      "cell_type": "markdown",
      "metadata": {
        "id": "fseqV9jSKe0H",
        "colab_type": "text"
      },
      "source": [
        "STEP GRADIENT FUNCTION"
      ]
    },
    {
      "cell_type": "code",
      "metadata": {
        "id": "-fExvhHNKGAO",
        "colab_type": "code",
        "colab": {}
      },
      "source": [
        "def step_gradient1(a,b,c,d, x1,x2,x3,y,learning_rate):\n",
        "  grad_a = 0\n",
        "  grad_b = 0\n",
        "  grad_c = 0\n",
        "  grad_d = 0\n",
        "  m = len(y)\n",
        "  for i in range(m):\n",
        "    grad_a += (1/m) * (hypothesis(a,b,c,d,x1[i], x2[i],x3[i]) - y[i]) * x1[i]\n",
        "    grad_b += (1/m) * (hypothesis(a,b,c,d,x1[i], x2[i],x3[i]) - y[i]) * x2[i]\n",
        "    grad_c += (1/m) * (hypothesis(a,b,c,d,x1[i], x2[i],x3[i]) - y[i]) * x2[i]\n",
        "    grad_d += (1/m) * (hypothesis(a,b,c,d,x1[i], x2[i],x3[i]) - y[i])\n",
        "\n",
        "  a = a - (grad_a * learning_rate)\n",
        "  b = b - (grad_b * learning_rate)\n",
        "  c = c - (grad_c * learning_rate)\n",
        "  d=  d - (grad_d * learning_rate)\n",
        "  return a,b,c,d"
      ],
      "execution_count": 0,
      "outputs": []
    },
    {
      "cell_type": "markdown",
      "metadata": {
        "id": "15hexaIpKi7A",
        "colab_type": "text"
      },
      "source": [
        "DESCEND FUNCTION"
      ]
    },
    {
      "cell_type": "code",
      "metadata": {
        "id": "LB7I8U8ZKI1P",
        "colab_type": "code",
        "colab": {}
      },
      "source": [
        "def descend1(init_a,init_b,init_c,init_d, x1,x2,x3,y,learning_rate,iters):\n",
        "  a = init_a\n",
        "  b = init_b\n",
        "  c = init_c\n",
        "  d = init_d\n",
        "\n",
        "  for i in range(iterations):\n",
        "    if i%100==0:\n",
        "      print(\"Error: %.5f | a: %.5f | b: %.5f | c: %.5f| d: %.5f\" %(error1(a,b,c,d, x1,x2,x3,y),a,b,c,d))\n",
        "    a,b,c,d = step_gradient1(a,b,c,d, x1,x2,x3,y,learning_rate)\n",
        "\n",
        "  return a,b,c,d"
      ],
      "execution_count": 0,
      "outputs": []
    },
    {
      "cell_type": "code",
      "metadata": {
        "id": "ne6XWoKwKLqC",
        "colab_type": "code",
        "outputId": "9321feb8-1c3c-431f-9765-f694d048d64b",
        "colab": {
          "base_uri": "https://localhost:8080/",
          "height": 185
        }
      },
      "source": [
        "#a,b,c,d = 0,0,0,0\n",
        "learning_rate = 0.05\n",
        "iterations = 1000\n",
        "\n",
        "a, b, c ,d = descend1(a, b, c, d,df1['Developing'].values,  df1['Adult Mortality'].values,df1[' thinness  1-19 years'].values, df1['Life expectancy '].values, learning_rate, iterations)"
      ],
      "execution_count": 0,
      "outputs": [
        {
          "output_type": "stream",
          "text": [
            "Error: 0.00800 | a: -0.16916 | b: -0.52795 | c: -0.52795| d: 0.81976\n",
            "Error: 0.00792 | a: -0.16788 | b: -0.56227 | c: -0.56227| d: 0.82256\n",
            "Error: 0.00786 | a: -0.16596 | b: -0.59362 | c: -0.59362| d: 0.82445\n",
            "Error: 0.00783 | a: -0.16371 | b: -0.62226 | c: -0.62226| d: 0.82573\n",
            "Error: 0.00781 | a: -0.16133 | b: -0.64844 | c: -0.64844| d: 0.82661\n",
            "Error: 0.00781 | a: -0.15894 | b: -0.67236 | c: -0.67236| d: 0.82721\n",
            "Error: 0.00782 | a: -0.15662 | b: -0.69424 | c: -0.69424| d: 0.82764\n",
            "Error: 0.00784 | a: -0.15439 | b: -0.71424 | c: -0.71424| d: 0.82795\n",
            "Error: 0.00787 | a: -0.15230 | b: -0.73252 | c: -0.73252| d: 0.82817\n",
            "Error: 0.00789 | a: -0.15034 | b: -0.74925 | c: -0.74925| d: 0.82834\n"
          ],
          "name": "stdout"
        }
      ]
    },
    {
      "cell_type": "code",
      "metadata": {
        "id": "-rqwOJY2MDDa",
        "colab_type": "code",
        "outputId": "7660cc5b-607f-4c25-dd61-72568e821ea7",
        "colab": {
          "base_uri": "https://localhost:8080/",
          "height": 34
        }
      },
      "source": [
        "print(\"{0:.2f}%\".format(np.sqrt(error1(a,b,c,d, df1[\"Developing\"],df1['Adult Mortality'].values, df1[' thinness  1-19 years'], df1[\"Life expectancy \"]))*100))\n",
        "#WITH FEATURES DEVELOPING,ADULT MORTALITY AND THINNESS 1-19 YEARS"
      ],
      "execution_count": 0,
      "outputs": [
        {
          "output_type": "stream",
          "text": [
            "8.90%\n"
          ],
          "name": "stdout"
        }
      ]
    },
    {
      "cell_type": "markdown",
      "metadata": {
        "id": "GthugTZGOi2o",
        "colab_type": "text"
      },
      "source": [
        "TESTING THE DATASET"
      ]
    },
    {
      "cell_type": "code",
      "metadata": {
        "id": "SIxAakcyLuBi",
        "colab_type": "code",
        "outputId": "8014f3c7-8d78-4b34-d1dc-5f8a1fece387",
        "colab": {
          "base_uri": "https://localhost:8080/",
          "height": 266
        }
      },
      "source": [
        "dff.head()"
      ],
      "execution_count": 0,
      "outputs": [
        {
          "output_type": "execute_result",
          "data": {
            "text/html": [
              "<div>\n",
              "<style scoped>\n",
              "    .dataframe tbody tr th:only-of-type {\n",
              "        vertical-align: middle;\n",
              "    }\n",
              "\n",
              "    .dataframe tbody tr th {\n",
              "        vertical-align: top;\n",
              "    }\n",
              "\n",
              "    .dataframe thead th {\n",
              "        text-align: right;\n",
              "    }\n",
              "</style>\n",
              "<table border=\"1\" class=\"dataframe\">\n",
              "  <thead>\n",
              "    <tr style=\"text-align: right;\">\n",
              "      <th></th>\n",
              "      <th>Year</th>\n",
              "      <th>Developing</th>\n",
              "      <th>Life expectancy</th>\n",
              "      <th>Adult Mortality</th>\n",
              "      <th>infant deaths</th>\n",
              "      <th>Alcohol</th>\n",
              "      <th>percentage expenditure</th>\n",
              "      <th>Hepatitis B</th>\n",
              "      <th>Measles</th>\n",
              "      <th>BMI</th>\n",
              "      <th>under-five deaths</th>\n",
              "      <th>Polio</th>\n",
              "      <th>Total expenditure</th>\n",
              "      <th>Diphtheria</th>\n",
              "      <th>HIV/AIDS</th>\n",
              "      <th>GDP</th>\n",
              "      <th>Population</th>\n",
              "      <th>thinness  1-19 years</th>\n",
              "      <th>thinness 5-9 years</th>\n",
              "      <th>Income composition of resources</th>\n",
              "      <th>Schooling</th>\n",
              "    </tr>\n",
              "  </thead>\n",
              "  <tbody>\n",
              "    <tr>\n",
              "      <th>0</th>\n",
              "      <td>2015</td>\n",
              "      <td>1</td>\n",
              "      <td>65.0</td>\n",
              "      <td>263.0</td>\n",
              "      <td>62</td>\n",
              "      <td>0.01</td>\n",
              "      <td>71.279624</td>\n",
              "      <td>65.0</td>\n",
              "      <td>1154</td>\n",
              "      <td>19.1</td>\n",
              "      <td>83</td>\n",
              "      <td>6.0</td>\n",
              "      <td>8.16</td>\n",
              "      <td>65.0</td>\n",
              "      <td>0.1</td>\n",
              "      <td>584.259210</td>\n",
              "      <td>33736494.0</td>\n",
              "      <td>17.2</td>\n",
              "      <td>17.3</td>\n",
              "      <td>0.479</td>\n",
              "      <td>10.1</td>\n",
              "    </tr>\n",
              "    <tr>\n",
              "      <th>1</th>\n",
              "      <td>2014</td>\n",
              "      <td>1</td>\n",
              "      <td>59.9</td>\n",
              "      <td>271.0</td>\n",
              "      <td>64</td>\n",
              "      <td>0.01</td>\n",
              "      <td>73.523582</td>\n",
              "      <td>62.0</td>\n",
              "      <td>492</td>\n",
              "      <td>18.6</td>\n",
              "      <td>86</td>\n",
              "      <td>58.0</td>\n",
              "      <td>8.18</td>\n",
              "      <td>62.0</td>\n",
              "      <td>0.1</td>\n",
              "      <td>612.696514</td>\n",
              "      <td>327582.0</td>\n",
              "      <td>17.5</td>\n",
              "      <td>17.5</td>\n",
              "      <td>0.476</td>\n",
              "      <td>10.0</td>\n",
              "    </tr>\n",
              "    <tr>\n",
              "      <th>2</th>\n",
              "      <td>2013</td>\n",
              "      <td>1</td>\n",
              "      <td>59.9</td>\n",
              "      <td>268.0</td>\n",
              "      <td>66</td>\n",
              "      <td>0.01</td>\n",
              "      <td>73.219243</td>\n",
              "      <td>64.0</td>\n",
              "      <td>430</td>\n",
              "      <td>18.1</td>\n",
              "      <td>89</td>\n",
              "      <td>62.0</td>\n",
              "      <td>8.13</td>\n",
              "      <td>64.0</td>\n",
              "      <td>0.1</td>\n",
              "      <td>631.744976</td>\n",
              "      <td>31731688.0</td>\n",
              "      <td>17.7</td>\n",
              "      <td>17.7</td>\n",
              "      <td>0.470</td>\n",
              "      <td>9.9</td>\n",
              "    </tr>\n",
              "    <tr>\n",
              "      <th>3</th>\n",
              "      <td>2012</td>\n",
              "      <td>1</td>\n",
              "      <td>59.5</td>\n",
              "      <td>272.0</td>\n",
              "      <td>69</td>\n",
              "      <td>0.01</td>\n",
              "      <td>78.184215</td>\n",
              "      <td>67.0</td>\n",
              "      <td>2787</td>\n",
              "      <td>17.6</td>\n",
              "      <td>93</td>\n",
              "      <td>67.0</td>\n",
              "      <td>8.52</td>\n",
              "      <td>67.0</td>\n",
              "      <td>0.1</td>\n",
              "      <td>669.959000</td>\n",
              "      <td>3696958.0</td>\n",
              "      <td>17.9</td>\n",
              "      <td>18.0</td>\n",
              "      <td>0.463</td>\n",
              "      <td>9.8</td>\n",
              "    </tr>\n",
              "    <tr>\n",
              "      <th>4</th>\n",
              "      <td>2011</td>\n",
              "      <td>1</td>\n",
              "      <td>59.2</td>\n",
              "      <td>275.0</td>\n",
              "      <td>71</td>\n",
              "      <td>0.01</td>\n",
              "      <td>7.097109</td>\n",
              "      <td>68.0</td>\n",
              "      <td>3013</td>\n",
              "      <td>17.2</td>\n",
              "      <td>97</td>\n",
              "      <td>68.0</td>\n",
              "      <td>7.87</td>\n",
              "      <td>68.0</td>\n",
              "      <td>0.1</td>\n",
              "      <td>63.537231</td>\n",
              "      <td>2978599.0</td>\n",
              "      <td>18.2</td>\n",
              "      <td>18.2</td>\n",
              "      <td>0.454</td>\n",
              "      <td>9.5</td>\n",
              "    </tr>\n",
              "  </tbody>\n",
              "</table>\n",
              "</div>"
            ],
            "text/plain": [
              "   Year  Developing  ...  Income composition of resources  Schooling\n",
              "0  2015           1  ...                            0.479       10.1\n",
              "1  2014           1  ...                            0.476       10.0\n",
              "2  2013           1  ...                            0.470        9.9\n",
              "3  2012           1  ...                            0.463        9.8\n",
              "4  2011           1  ...                            0.454        9.5\n",
              "\n",
              "[5 rows x 21 columns]"
            ]
          },
          "metadata": {
            "tags": []
          },
          "execution_count": 62
        }
      ]
    },
    {
      "cell_type": "code",
      "metadata": {
        "id": "_rKlmcC3OohT",
        "colab_type": "code",
        "colab": {}
      },
      "source": [
        "scaler = MinMaxScaler()\n",
        "df2 = pd.DataFrame(scaler.fit_transform(dff), columns = dff.columns)"
      ],
      "execution_count": 0,
      "outputs": []
    },
    {
      "cell_type": "code",
      "metadata": {
        "id": "GxXhRwbfOvPB",
        "colab_type": "code",
        "outputId": "3dab0151-66bb-498e-cf98-a44918356d6c",
        "colab": {
          "base_uri": "https://localhost:8080/",
          "height": 34
        }
      },
      "source": [
        "print(\"{0:.2f}%\".format(np.sqrt(error1(a,b,c,d, df2[\"Developing\"],df2['Adult Mortality'].values, df2[' thinness  1-19 years'], df2[\"Life expectancy \"]))*100))\n"
      ],
      "execution_count": 0,
      "outputs": [
        {
          "output_type": "stream",
          "text": [
            "8.90%\n"
          ],
          "name": "stdout"
        }
      ]
    },
    {
      "cell_type": "markdown",
      "metadata": {
        "id": "83t_5rxzPD0p",
        "colab_type": "text"
      },
      "source": [
        "## CONCLUSION"
      ]
    },
    {
      "cell_type": "markdown",
      "metadata": {
        "id": "ruSaiv6vPP_m",
        "colab_type": "text"
      },
      "source": [
        "FROM ALL THESE REGRESSION MODELS WHICH WE HAVE CREATED WE CAN SEE THAT LIFE EXPECTANCY IS HIGHLY AFFECTED BY ADULT MORTALITY(Though we have got the rmse value so close with other features as well).Hence,I would like to conclude that there are many factors which impact on the life expectancy of a country though the correlation factor just highlights the key features,and we just cant be satisfied with one or two of them.Life expectancy depends on every factor related to the citizen of that country."
      ]
    }
  ]
}